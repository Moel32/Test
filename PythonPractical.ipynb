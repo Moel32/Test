{
  "nbformat": 4,
  "nbformat_minor": 0,
  "metadata": {
    "colab": {
      "provenance": [],
      "authorship_tag": "ABX9TyM9O6c/PWMZj4F7MZuNu7xc",
      "include_colab_link": true
    },
    "kernelspec": {
      "name": "python3",
      "display_name": "Python 3"
    },
    "language_info": {
      "name": "python"
    }
  },
  "cells": [
    {
      "cell_type": "markdown",
      "metadata": {
        "id": "view-in-github",
        "colab_type": "text"
      },
      "source": [
        "<a href=\"https://colab.research.google.com/github/Moel32/Test/blob/main/PythonPractical.ipynb\" target=\"_parent\"><img src=\"https://colab.research.google.com/assets/colab-badge.svg\" alt=\"Open In Colab\"/></a>"
      ]
    },
    {
      "cell_type": "code",
      "execution_count": 1,
      "metadata": {
        "colab": {
          "base_uri": "https://localhost:8080/"
        },
        "id": "nBJAAFSCVvjK",
        "outputId": "1b5dd2b2-d1cf-41c4-c8f9-3c8e43b6253f"
      },
      "outputs": [
        {
          "output_type": "stream",
          "name": "stdout",
          "text": [
            "Hello World!\n"
          ]
        }
      ],
      "source": [
        "print(\"Hello World!\")"
      ]
    },
    {
      "cell_type": "markdown",
      "source": [
        "Variable types"
      ],
      "metadata": {
        "id": "06VnI3SjWf21"
      }
    },
    {
      "cell_type": "code",
      "source": [
        "x=\"Yvan\" #string\n",
        "y=9 #integer\n",
        "z=9.9 #float\n",
        "print(x, y, z)"
      ],
      "metadata": {
        "colab": {
          "base_uri": "https://localhost:8080/"
        },
        "id": "IOa22FfbWlrn",
        "outputId": "b9047306-fc9c-4691-8852-d0dccc9bc673"
      },
      "execution_count": 2,
      "outputs": [
        {
          "output_type": "stream",
          "name": "stdout",
          "text": [
            "Yvan 9 9.9\n"
          ]
        }
      ]
    },
    {
      "cell_type": "markdown",
      "source": [
        "Let's make a simple calculator exercise"
      ],
      "metadata": {
        "id": "KKXR1NAkYL8C"
      }
    },
    {
      "cell_type": "code",
      "source": [
        "num1=int(input(\"Enter number 1: \"))\n",
        "num2=int(input(\"Enter number 2: \"))\n",
        "print(num1+num2)"
      ],
      "metadata": {
        "colab": {
          "base_uri": "https://localhost:8080/"
        },
        "id": "As7lQr6lY_Sl",
        "outputId": "00b3d479-0a14-4f15-96b1-d44799dfb396"
      },
      "execution_count": 4,
      "outputs": [
        {
          "output_type": "stream",
          "name": "stdout",
          "text": [
            "Enter number 1: 8\n",
            "Enter number 2: 5\n",
            "13\n"
          ]
        }
      ]
    },
    {
      "cell_type": "markdown",
      "source": [
        "Conditionals"
      ],
      "metadata": {
        "id": "P5oJ2KHJaQ5r"
      }
    },
    {
      "cell_type": "code",
      "source": [
        "age=int(input(\"Input your age: \"))\n",
        "if age >= 18:\n",
        "    print(\"You are an adult\")\n",
        "else:\n",
        "    print(\"You are a kid\")"
      ],
      "metadata": {
        "colab": {
          "base_uri": "https://localhost:8080/"
        },
        "id": "w1S2oGsTaVGg",
        "outputId": "941729a7-f2af-44ee-d771-387c5ae18d4c"
      },
      "execution_count": 8,
      "outputs": [
        {
          "output_type": "stream",
          "name": "stdout",
          "text": [
            "Input your age: 1\n",
            "You are a kid\n"
          ]
        }
      ]
    },
    {
      "cell_type": "code",
      "source": [
        "age=int(input(\"Input your age: \"))\n",
        "if age >= 18:\n",
        "  print(\"You are an adult\")\n",
        "elif age>=10:\n",
        "  print(\"You are a teen\")\n",
        "else:\n",
        "  print(\"You are a baby\")"
      ],
      "metadata": {
        "colab": {
          "base_uri": "https://localhost:8080/"
        },
        "id": "Jc9Pb9PEb2Jc",
        "outputId": "eaa14c73-9400-4f61-ee13-2bc4126bd011"
      },
      "execution_count": 10,
      "outputs": [
        {
          "output_type": "stream",
          "name": "stdout",
          "text": [
            "Input your age: 5\n",
            "You are a baby\n"
          ]
        }
      ]
    },
    {
      "cell_type": "markdown",
      "source": [
        "Loops"
      ],
      "metadata": {
        "id": "gcoQQXyrcphn"
      }
    },
    {
      "cell_type": "code",
      "source": [
        "for i in range(5):#for loop\n",
        "  print (i)"
      ],
      "metadata": {
        "colab": {
          "base_uri": "https://localhost:8080/"
        },
        "id": "Z7d3NE0ecrGx",
        "outputId": "20840d6c-3837-4bd7-fda2-75e4d043b84e"
      },
      "execution_count": 11,
      "outputs": [
        {
          "output_type": "stream",
          "name": "stdout",
          "text": [
            "0\n",
            "1\n",
            "2\n",
            "3\n",
            "4\n"
          ]
        }
      ]
    },
    {
      "cell_type": "code",
      "source": [
        "i=0     #while loop\n",
        "\n",
        "while i<5:\n",
        "  print(i)\n",
        "  i=i+1"
      ],
      "metadata": {
        "colab": {
          "base_uri": "https://localhost:8080/"
        },
        "id": "ZS_t4gN5dL7B",
        "outputId": "e7e9a72d-9c3c-4325-dba7-9f671737e5b7"
      },
      "execution_count": 12,
      "outputs": [
        {
          "output_type": "stream",
          "name": "stdout",
          "text": [
            "0\n",
            "1\n",
            "2\n",
            "3\n",
            "4\n"
          ]
        }
      ]
    },
    {
      "cell_type": "code",
      "source": [
        "i=1\n",
        "\n",
        "while i<10:\n",
        "  print(i)\n",
        "  i=i+1"
      ],
      "metadata": {
        "colab": {
          "base_uri": "https://localhost:8080/"
        },
        "id": "tVLG3RHxd_sz",
        "outputId": "ac5adee7-f106-4089-cd9d-e9b48dc2df1a"
      },
      "execution_count": 13,
      "outputs": [
        {
          "output_type": "stream",
          "name": "stdout",
          "text": [
            "1\n",
            "2\n",
            "3\n",
            "4\n",
            "5\n",
            "6\n",
            "7\n",
            "8\n",
            "9\n"
          ]
        }
      ]
    },
    {
      "cell_type": "markdown",
      "source": [
        "Functions"
      ],
      "metadata": {
        "id": "zTH9iivWeNYO"
      }
    },
    {
      "cell_type": "code",
      "source": [
        "def greet(name):\n",
        "  return 'Hello ' + name\n",
        "\n",
        "message=greet(\"Fateme\")\n",
        "print(message)"
      ],
      "metadata": {
        "colab": {
          "base_uri": "https://localhost:8080/"
        },
        "id": "17PFUX_qePb6",
        "outputId": "fddb0e52-b7ed-4ae0-8894-40b276417ad6"
      },
      "execution_count": 14,
      "outputs": [
        {
          "output_type": "stream",
          "name": "stdout",
          "text": [
            "Hello Fateme\n"
          ]
        }
      ]
    },
    {
      "cell_type": "code",
      "source": [
        "def greet(name):\n",
        "  return 'Hoi ' + name\n",
        "\n",
        "message=greet(\"Yvan\")\n",
        "print(message)"
      ],
      "metadata": {
        "colab": {
          "base_uri": "https://localhost:8080/"
        },
        "id": "T8ydxdnxe3IX",
        "outputId": "a7d70708-925b-413c-923d-888f2dea92fd"
      },
      "execution_count": 16,
      "outputs": [
        {
          "output_type": "stream",
          "name": "stdout",
          "text": [
            "Hoi Yvan\n"
          ]
        }
      ]
    }
  ]
}